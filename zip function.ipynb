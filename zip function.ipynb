{
 "cells": [
  {
   "cell_type": "code",
   "execution_count": 1,
   "id": "ae1585f0-8f72-4548-9ac1-a062868f5a88",
   "metadata": {},
   "outputs": [
    {
     "name": "stdout",
     "output_type": "stream",
     "text": [
      "[('Arman', 'NSTU'), ('Mahathir', 'Uk'), ('Shohan', 'IIUC')]\n"
     ]
    }
   ],
   "source": [
    "name=['Arman','Mahathir','Shohan']\n",
    "varsity=['NSTU','Uk','IIUC']\n",
    "zipped=list(zip(name,varsity))\n",
    "print(zipped)\n",
    "#it will create parallel pair of two list into another paired list"
   ]
  },
  {
   "cell_type": "code",
   "execution_count": 2,
   "id": "81b5fac3-9b57-4c9d-83af-df00a37ee7ce",
   "metadata": {},
   "outputs": [
    {
     "name": "stdout",
     "output_type": "stream",
     "text": [
      "(('Arman', 'NSTU'), ('Mahathir', 'Uk'), ('Shohan', 'IIUC'))\n"
     ]
    }
   ],
   "source": [
    "name=['Arman','Mahathir','Shohan']\n",
    "varsity=['NSTU','Uk','IIUC']\n",
    "zipped=tuple(zip(name,varsity))\n",
    "print(zipped)\n",
    "#to create paired tuple"
   ]
  },
  {
   "cell_type": "code",
   "execution_count": 3,
   "id": "b76467c6-0146-448c-851f-ed78c49935b2",
   "metadata": {},
   "outputs": [
    {
     "name": "stdout",
     "output_type": "stream",
     "text": [
      "{'Arman': 'NSTU', 'Mahathir': 'Uk', 'Shohan': 'IIUC'}\n"
     ]
    }
   ],
   "source": [
    "name=['Arman','Mahathir','Shohan']\n",
    "varsity=['NSTU','Uk','IIUC']\n",
    "zipped=dict(zip(name,varsity))\n",
    "print(zipped)\n",
    "# dictionary"
   ]
  },
  {
   "cell_type": "code",
   "execution_count": 4,
   "id": "f7805729-3fd4-4abc-92de-80cb4cc1ada0",
   "metadata": {},
   "outputs": [
    {
     "data": {
      "text/plain": [
       "dict_keys(['Arman', 'Mahathir', 'Shohan'])"
      ]
     },
     "execution_count": 4,
     "metadata": {},
     "output_type": "execute_result"
    }
   ],
   "source": [
    "zipped.keys()"
   ]
  },
  {
   "cell_type": "code",
   "execution_count": 5,
   "id": "3bdbabe1-7bdf-4777-a0ab-372b6b0f6c3d",
   "metadata": {},
   "outputs": [
    {
     "name": "stdout",
     "output_type": "stream",
     "text": [
      "{('Mahathir', 'Uk'), ('Shohan', 'IIUC'), ('Arman', 'NSTU')}\n"
     ]
    }
   ],
   "source": [
    "name=['Arman','Mahathir','Shohan']\n",
    "varsity=['NSTU','Uk','IIUC']\n",
    "zipped=set(zip(name,varsity))\n",
    "print(zipped)\n",
    "#set "
   ]
  },
  {
   "cell_type": "code",
   "execution_count": 6,
   "id": "e9d64e13-a656-49e7-8f76-16dba297cf8f",
   "metadata": {},
   "outputs": [],
   "source": [
    "name1,varsity1=zip(*zipped)\n",
    "#to unzip use the function zip(*variable name)"
   ]
  },
  {
   "cell_type": "code",
   "execution_count": 7,
   "id": "a1ba6fba-09a7-4a03-af36-d3cc529afff8",
   "metadata": {},
   "outputs": [
    {
     "data": {
      "text/plain": [
       "(('Mahathir', 'Shohan', 'Arman'), ('Uk', 'IIUC', 'NSTU'))"
      ]
     },
     "execution_count": 7,
     "metadata": {},
     "output_type": "execute_result"
    }
   ],
   "source": [
    "name1,varsity1"
   ]
  },
  {
   "cell_type": "code",
   "execution_count": 8,
   "id": "b5e36073-dd7b-427e-b6e2-4ea761d63dd2",
   "metadata": {},
   "outputs": [],
   "source": [
    "import zipfile as zp\n",
    "zipp=zp.ZipFile('zipped Rename.zip','w')\n",
    "zipp.write('me.jpg')\n",
    "zipp.write('pi.docx')\n",
    "#to make a zip file using zip function;w(write) menas create and r means read \n",
    "#when we will run then it will create a zip file and named zipped Rename containing jpg and docx file (any file can be added if necessary)\n",
    "#those file must be in the same location as ipynb file ;zip file will be created in same location ;\n",
    "#to extract this file\n",
    "#we have to create a new folder in same location then copy the zip file and paste in new folder then we will extract the file using winrar or 7-zip "
   ]
  },
  {
   "cell_type": "code",
   "execution_count": 9,
   "id": "832d2319-9225-4d44-a3af-d463bc7f09d0",
   "metadata": {},
   "outputs": [],
   "source": [
    "with zp.ZipFile('zipped Rename.zip','r') as file:\n",
    "    file.extractall()\n",
    "#to unzip file and extract all "
   ]
  },
  {
   "cell_type": "code",
   "execution_count": 10,
   "id": "15f11f2c-ef74-403f-93f1-f93507b5cce9",
   "metadata": {},
   "outputs": [],
   "source": [
    "with zp.ZipFile('zipped Rename.zip','r') as file:\n",
    "    file.extractall('temporary unzip')\n",
    "#it will create a file named temporary unzip file containing previous jpg and docx file and it can be seen unzipped "
   ]
  }
 ],
 "metadata": {
  "kernelspec": {
   "display_name": "Python 3 (ipykernel)",
   "language": "python",
   "name": "python3"
  },
  "language_info": {
   "codemirror_mode": {
    "name": "ipython",
    "version": 3
   },
   "file_extension": ".py",
   "mimetype": "text/x-python",
   "name": "python",
   "nbconvert_exporter": "python",
   "pygments_lexer": "ipython3",
   "version": "3.13.7"
  }
 },
 "nbformat": 4,
 "nbformat_minor": 5
}
